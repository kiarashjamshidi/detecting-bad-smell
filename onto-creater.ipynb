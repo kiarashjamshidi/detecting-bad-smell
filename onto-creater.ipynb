{
 "cells": [
  {
   "cell_type": "code",
   "execution_count": 15,
   "metadata": {},
   "outputs": [],
   "source": [
    "import ast\n",
    "from owlready2 import *\n",
    "\n",
    "#creating the empty ontology\n",
    "\n",
    "onto = get_ontology(\"http://test.org/onto.owl\")\n",
    "\n",
    "\n",
    "\n",
    "#parsing the python file \n",
    "with open(\"tree.py\") as fd:\n",
    "    file_contents = fd.read()\n",
    "    \n",
    "    \n",
    "#get the ClassDef attribute by \n",
    "\n",
    "module = ast.parse(file_contents)\n",
    "array_ClassDef = [node for node in module.body if isinstance(node, ast.ClassDef)]\n",
    "\n",
    "\n",
    "# analysing the file and put it in antalogy \n",
    "with onto:\n",
    "    for f in array_ClassDef:\n",
    "        for i in f.bases:\n",
    "            if i.id == \"Node\":\n",
    "                types.new_class(f.name, (Thing,))\n",
    "            else :\n",
    "                types.new_class(f.name, (onto[i.id],))\n",
    "\n",
    "                \n",
    "#exporting the ontology\n",
    "                \n",
    "onto.save(file = \"tree.owl\", format = \"rdfxml\")\n",
    "\n",
    "## testing the ontology \n",
    "\n",
    "onto = get_ontology(\"tree.owl\").load()\n",
    "cd = onto[\"ClassDeclaration\"]\n",
    "assert cd.name == \"ClassDeclaration\"\n",
    "assert len(cd.is_a) == 1\n",
    "assert cd.is_a[0].name == 'TypeDeclaration'\n",
    "\n",
    "\n",
    "\n",
    "    "
   ]
  },
  {
   "cell_type": "code",
   "execution_count": null,
   "metadata": {},
   "outputs": [],
   "source": []
  },
  {
   "cell_type": "code",
   "execution_count": null,
   "metadata": {},
   "outputs": [],
   "source": []
  },
  {
   "cell_type": "code",
   "execution_count": null,
   "metadata": {},
   "outputs": [],
   "source": []
  },
  {
   "cell_type": "code",
   "execution_count": null,
   "metadata": {},
   "outputs": [],
   "source": []
  },
  {
   "cell_type": "code",
   "execution_count": null,
   "metadata": {},
   "outputs": [],
   "source": []
  },
  {
   "cell_type": "code",
   "execution_count": null,
   "metadata": {},
   "outputs": [],
   "source": []
  },
  {
   "cell_type": "code",
   "execution_count": null,
   "metadata": {},
   "outputs": [],
   "source": []
  },
  {
   "cell_type": "code",
   "execution_count": null,
   "metadata": {},
   "outputs": [],
   "source": []
  },
  {
   "cell_type": "code",
   "execution_count": null,
   "metadata": {},
   "outputs": [],
   "source": []
  },
  {
   "cell_type": "code",
   "execution_count": null,
   "metadata": {},
   "outputs": [],
   "source": []
  }
 ],
 "metadata": {
  "kernelspec": {
   "display_name": "Python 3",
   "language": "python",
   "name": "python3"
  },
  "language_info": {
   "codemirror_mode": {
    "name": "ipython",
    "version": 3
   },
   "file_extension": ".py",
   "mimetype": "text/x-python",
   "name": "python",
   "nbconvert_exporter": "python",
   "pygments_lexer": "ipython3",
   "version": "3.7.4"
  }
 },
 "nbformat": 4,
 "nbformat_minor": 2
}

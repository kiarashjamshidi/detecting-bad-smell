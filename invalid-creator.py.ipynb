{
 "cells": [
  {
   "cell_type": "code",
   "execution_count": null,
   "metadata": {},
   "outputs": [],
   "source": []
  },
  {
   "cell_type": "code",
   "execution_count": null,
   "metadata": {},
   "outputs": [],
   "source": []
  },
  {
   "cell_type": "code",
   "execution_count": 57,
   "metadata": {},
   "outputs": [],
   "source": [
    "import javalang\n",
    "import os\n",
    "import pandas as pd\n",
    "import re\n",
    "import sys\n",
    "\n",
    "import ast\n",
    "from owlready2 import *\n",
    "\n",
    "#creating the empty ontology\n",
    "\n",
    "onto = get_ontology(\"http://test.org/onto.owl\")\n",
    "\n",
    "\n",
    "#for classes without the .java at the end ()\n",
    "class_names = []\n",
    "temp=[]\n",
    "\n",
    "\n",
    "\n",
    "def main(path):\n",
    "#     path = sys.argv[1]\n",
    "    for root , dirs , files in os.walk(path):\n",
    "        for name in files:\n",
    "            if name.endswith(\".java\"):\n",
    "\n",
    "                str = open(os.path.join(root, name), \"r\").read()\n",
    "                tree = javalang.parse.parse(str)\n",
    "                \n",
    "                className = name.replace(\".java\",\"\")\n",
    "                for path , node in tree.filter(javalang.tree.ClassDeclaration ):\n",
    "                    with open(root+\"/\"+name) as fd:\n",
    "                        file_contents = fd.read()\n",
    "                        temp.append(file_contents)\n",
    "#                     module = ast.parse(file_contents)\n",
    "#                     array_ClassDef = [node for node in module.body if isinstance(node, ast.ClassDef)]\n",
    "\n",
    "\n",
    "\n",
    "#                     module = ast.parse(file_contents)\n",
    "#                     array_ClassDef = [node for node in module.body if isinstance(node, ast.ClassDef)]\n",
    "\n",
    "\n",
    "#                     #get the class one \n",
    "\n",
    "                    if(node.name == className):\n",
    "#                         print(node.name)\n",
    "                        class_names.append(node.name)\n",
    "\n",
    "                \n",
    "                \n",
    "main(\"/Users/kiarashjamshidi/Desktop/knowled_modeling_project_number_1/detecting-bad-smell/android-chess/app/src/main/java/jwtc/chess\")\n",
    "\n",
    "\n"
   ]
  },
  {
   "cell_type": "code",
   "execution_count": 61,
   "metadata": {},
   "outputs": [
    {
     "name": "stdout",
     "output_type": "stream",
     "text": [
      "README.md               onto-creater.ipynb      tree.owl\r\n",
      "Untitled.ipynb          project_ontology.ipynb  tree.py\r\n",
      "\u001b[34mandroid-chess\u001b[m\u001b[m/          tree\r\n"
     ]
    }
   ],
   "source": []
  },
  {
   "cell_type": "code",
   "execution_count": null,
   "metadata": {},
   "outputs": [],
   "source": []
  },
  {
   "cell_type": "code",
   "execution_count": null,
   "metadata": {},
   "outputs": [],
   "source": []
  }
 ],
 "metadata": {
  "kernelspec": {
   "display_name": "Python 3",
   "language": "python",
   "name": "python3"
  },
  "language_info": {
   "codemirror_mode": {
    "name": "ipython",
    "version": 3
   },
   "file_extension": ".py",
   "mimetype": "text/x-python",
   "name": "python",
   "nbconvert_exporter": "python",
   "pygments_lexer": "ipython3",
   "version": "3.7.4"
  }
 },
 "nbformat": 4,
 "nbformat_minor": 2
}

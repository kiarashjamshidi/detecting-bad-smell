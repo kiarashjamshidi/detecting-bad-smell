{
 "cells": [
  {
   "cell_type": "code",
   "execution_count": null,
   "metadata": {},
   "outputs": [],
   "source": [
    "import ast\n",
    "from owlready2 import *\n",
    "\n",
    "#creating the empty ontology\n",
    "\n",
    "onto = get_ontology(\"http://test.org/onto.owl\")\n",
    "\n",
    "\n",
    "\n",
    "with open(\"tree.py\") as fd:\n",
    "    file_contents = fd.read()\n",
    "\n",
    "module = ast.parse(file_contents)\n",
    "array_ClassDef = [node for node in module.body if isinstance(node, ast.ClassDef)]\n",
    "\n",
    "\n",
    "with onto:\n",
    "\n",
    "#new_class(\"name\", (Thing,))\n",
    "\n",
    "    for f in array_ClassDef:\n",
    "        print(f.name)\n",
    "        for i in f.bases:\n",
    "            if i.id == \"Node\":\n",
    "                types.new_class(f.name, (Thing,))\n",
    "            else :\n",
    "#                 print(i.id)\n",
    "                types.new_class(f.name, (onto[i.id],))\n",
    "#         print(f.keywords)\n",
    "        for node in f.body:\n",
    "            if isinstance(node, ast.Assign):\n",
    "                for q1 in node.targets:\n",
    "                    print(q1.id)\n",
    "                print(\"###value##\")\n",
    "                for q2 in node.value.elts:\n",
    "                    print(q2.s)\n",
    "                print(\"###value##\")\n",
    "        print(f.decorator_list)\n",
    "        print(\"###########\")\n",
    "    "
   ]
  }
 ],
 "metadata": {
  "kernelspec": {
   "display_name": "Python 3",
   "language": "python",
   "name": "python3"
  },
  "language_info": {
   "codemirror_mode": {
    "name": "ipython",
    "version": 3
   },
   "file_extension": ".py",
   "mimetype": "text/x-python",
   "name": "python",
   "nbconvert_exporter": "python",
   "pygments_lexer": "ipython3",
   "version": "3.7.4"
  }
 },
 "nbformat": 4,
 "nbformat_minor": 2
}
